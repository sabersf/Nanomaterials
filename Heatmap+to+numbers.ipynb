{
 "cells": [
  {
   "cell_type": "code",
   "execution_count": 1,
   "metadata": {
    "collapsed": false
   },
   "outputs": [],
   "source": [
    "import numpy as np\n",
    "import pandas as pd\n",
    "import cv2    \n",
    "from scipy.misc import imread\n",
    "import csv\n",
    "from matplotlib import pyplot as plt"
   ]
  },
  {
   "cell_type": "code",
   "execution_count": 2,
   "metadata": {
    "collapsed": true
   },
   "outputs": [],
   "source": [
    "#Name of the rows\n",
    "names = [\"32\",\"60\",\"61\",\"66\",\"67\",\"68\",\"69\",\"73\",\"77\",\n",
    "         \"80\",\"87\",\"94\",\"98\",\"99\",\"101\",\"102\",\"103\",\"103-1\",\"105\",\"106\",\"107\",\n",
    "         \"108\",\"109\",\"110\",\"111\",\"111-1\",\"112\",\"115\",\"116\",\"116-1\",\"117\",\"117-1\",\n",
    "         \"118\",\"121\",\"122\",\"124\",\"125\",\"126\",\"127\",\"128\",\"200\",\n",
    "         \"201\",\"202\",\"203\",\"204\",\"205\",\"206\",\"207\",\"208\",\"210\",\"211\",\"212\",\"213\",\n",
    "         \"214\",\"215\",\"216\",\"217\",\"218\",\"219\",\"222\",\"223\",\"224\",\"225\",\"226\",\n",
    "         \"227\",\"228\",\"229\",\"230\",\"231\",\"232\",\"233\",\"234\",\"235\",\n",
    "         \"240\",\"241\",\"242\",\"244\",\"245\",\"246\",\"250\",\"251\",\"252\",\"253\",\"254\",\"255\",\n",
    "         \"256\",\"257\",\"259\",\"301\",\"302\",\"303\",\"304\",\"305\",\"306\",\"307\",\"308\",\n",
    "         \"309\",\"310\",\"311\",\"312\",\"313\",\"314\"]"
   ]
  },
  {
   "cell_type": "code",
   "execution_count": 3,
   "metadata": {
    "collapsed": true
   },
   "outputs": [],
   "source": [
    "def parse_image(img, number_rows):\n",
    "\n",
    "    # Start with all zeros in a number_rows x 16 array\n",
    "    data = np.zeros((number_rows, 16), dtype=int)\n",
    "    \n",
    "\n",
    "    # List holding min and max RGB values for each category\n",
    "\n",
    "    categories = [\n",
    "        (5, (250, 0, 0), (255, 5, 5)),             # Red\n",
    "        (4, (152, 60, 5), (160, 78, 12)),          # Dark brown\n",
    "        (3, (225, 105, 9), (240, 120, 18)),        # Light brown\n",
    "        (2, (250, 235, 220), (255, 245, 230)),     # Light orange\n",
    "        (1, (250, 250, 250), (255, 255, 255)),     # White\n",
    "        ]\n",
    "\n",
    "    for category, bgr_min, bgr_max in categories:\n",
    "        # Extract pixels in the required range and convert them to 255\n",
    "        mask = cv2.inRange(img, bgr_min, bgr_max)\n",
    "        image_cat = cv2.bitwise_or(img, np.full(img.shape, 255, dtype=np.uint8), mask=mask)\n",
    "        \n",
    "        # Convert the image into greyscale\n",
    "        image_grey = cv2.cvtColor(image_cat, cv2.COLOR_BGR2GRAY)\n",
    "        \n",
    "        # Resize the image to 16 x number_rows\n",
    "        values = cv2.resize(image_grey, (16, number_rows))\n",
    "\n",
    "        # Convert non black values into the current category value\n",
    "        values[values > 0] = category\n",
    "\n",
    "        # Add the values to the data array\n",
    "        data = data + values\n",
    "\n",
    "    return data\n"
   ]
  },
  {
   "cell_type": "code",
   "execution_count": 4,
   "metadata": {
    "collapsed": false
   },
   "outputs": [],
   "source": [
    "def create_categories(file_name, size):\n",
    "    # Load the heatmap    \n",
    "    img_src = imread(file_name)\n",
    "    print(img_src.shape)\n",
    "    # Crop into 3 sub images\n",
    "    starty = 28\n",
    "    cropx = 234\n",
    "    cropy = 184\n",
    "    #cropx = 233\n",
    "    cropy = 300\n",
    "    images = []\n",
    "    images.append(img_src[26:,30:30+234])\n",
    "    images.append(img_src[26:,303:303+234])\n",
    "    images.append(img_src[26:,572:572+234])\n",
    "\n",
    "    abc = [parse_image(img, size) for img in images]\n",
    "    return abc,images"
   ]
  },
  {
   "cell_type": "code",
   "execution_count": 5,
   "metadata": {
    "collapsed": false
   },
   "outputs": [
    {
     "name": "stdout",
     "output_type": "stream",
     "text": [
      "(1230, 813, 3)\n"
     ]
    }
   ],
   "source": [
    "all_, all_images  = create_categories(\"all.jpg\" , 102)"
   ]
  },
  {
   "cell_type": "code",
   "execution_count": 6,
   "metadata": {
    "collapsed": false
   },
   "outputs": [],
   "source": [
    "def detect_category(input_image):\n",
    "    categories = [\n",
    "        (5, (250, 0, 0), (255, 5, 5)),             # Red\n",
    "        (4, (152, 60, 5), (160, 78, 12)),          # Dark brown\n",
    "        (3, (225, 105, 9), (240, 120, 18)),        # Light brown\n",
    "        (2, (250, 235, 220), (255, 245, 230)),     # Light orange\n",
    "        (1, (250, 250, 250), (255, 255, 255)),     # White\n",
    "        ]\n",
    "    count = [0] * 6\n",
    "    for category, bgr_min, bgr_max in categories:\n",
    "        mask = cv2.inRange(input_image, bgr_min, bgr_max)\n",
    "        image_cat = cv2.bitwise_or(input_image, np.full(input_image.shape, 255, dtype=np.uint8), mask=mask)\n",
    "        image_grey = cv2.cvtColor(image_cat, cv2.COLOR_BGR2GRAY)\n",
    "        count[category] =  np.count_nonzero(image_grey)\n",
    "    return np.argmax(count)"
   ]
  },
  {
   "cell_type": "code",
   "execution_count": 7,
   "metadata": {
    "collapsed": false
   },
   "outputs": [],
   "source": [
    "data = np.zeros((3,102, 16), dtype=int) \n",
    "\n",
    "for z in range(3):\n",
    "    for i in range(102):\n",
    "        offset =  -1 * (i/3)\n",
    "        y_begin = offset + (i*12) + 1\n",
    "        y_end = offset + (1+i)*12 - 1\n",
    "        for j in range(16):\n",
    "            data[z,i,j] = detect_category(all_images[z][y_begin:y_end, j*15 : (j+1)*15])"
   ]
  },
  {
   "cell_type": "code",
   "execution_count": 8,
   "metadata": {
    "collapsed": false
   },
   "outputs": [],
   "source": [
    "#Assigning names to the rows and columns of our data frame\n",
    "I = pd.Index(names, name=\"rows\")\n",
    "C = pd.Index([chr(i) for i in range(65,81)], name=\"columns\")"
   ]
  },
  {
   "cell_type": "code",
   "execution_count": 9,
   "metadata": {
    "collapsed": false
   },
   "outputs": [],
   "source": [
    "#Write the output to CSV files\n",
    "df = pd.DataFrame(data=data[0,:,:], index=I, columns=C)\n",
    "df.to_csv('output_A.csv')\n",
    "df = pd.DataFrame(data=data[1,:,:], index=I, columns=C)\n",
    "df.to_csv('output_B.csv')\n",
    "df = pd.DataFrame(data=data[2,:,:], index=I, columns=C)\n",
    "df.to_csv('output_C.csv')"
   ]
  },
  {
   "cell_type": "code",
   "execution_count": null,
   "metadata": {
    "collapsed": false
   },
   "outputs": [],
   "source": []
  }
 ],
 "metadata": {
  "kernelspec": {
   "display_name": "Python 2",
   "language": "python",
   "name": "python2"
  },
  "language_info": {
   "codemirror_mode": {
    "name": "ipython",
    "version": 2
   },
   "file_extension": ".py",
   "mimetype": "text/x-python",
   "name": "python",
   "nbconvert_exporter": "python",
   "pygments_lexer": "ipython2",
   "version": "2.7.10"
  }
 },
 "nbformat": 4,
 "nbformat_minor": 2
}
